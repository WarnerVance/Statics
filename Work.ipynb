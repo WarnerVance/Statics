{
 "cells": [
  {
   "metadata": {
    "ExecuteTime": {
     "end_time": "2025-02-18T04:35:10.484106Z",
     "start_time": "2025-02-18T04:35:10.480375Z"
    }
   },
   "cell_type": "code",
   "source": "",
   "id": "36fc8329dc9d6870",
   "outputs": [],
   "execution_count": 1
  },
  {
   "metadata": {
    "ExecuteTime": {
     "end_time": "2025-02-18T04:35:10.487425Z",
     "start_time": "2025-02-18T04:35:10.486213Z"
    }
   },
   "cell_type": "code",
   "source": "",
   "id": "c7d03994f8745a03",
   "outputs": [],
   "execution_count": null
  },
  {
   "metadata": {
    "ExecuteTime": {
     "end_time": "2025-02-18T04:35:10.559048Z",
     "start_time": "2025-02-18T04:35:10.557866Z"
    }
   },
   "cell_type": "code",
   "source": "",
   "id": "f6b62a289f7fad06",
   "outputs": [],
   "execution_count": null
  },
  {
   "metadata": {
    "ExecuteTime": {
     "end_time": "2025-02-18T04:35:10.563993Z",
     "start_time": "2025-02-18T04:35:10.562850Z"
    }
   },
   "cell_type": "code",
   "source": "",
   "id": "c11cf61216755121",
   "outputs": [],
   "execution_count": null
  }
 ],
 "metadata": {
  "kernelspec": {
   "display_name": "Python 3",
   "language": "python",
   "name": "python3"
  },
  "language_info": {
   "codemirror_mode": {
    "name": "ipython",
    "version": 2
   },
   "file_extension": ".py",
   "mimetype": "text/x-python",
   "name": "python",
   "nbconvert_exporter": "python",
   "pygments_lexer": "ipython2",
   "version": "2.7.6"
  }
 },
 "nbformat": 4,
 "nbformat_minor": 5
}
