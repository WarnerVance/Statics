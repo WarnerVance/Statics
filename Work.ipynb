{
 "cells": [
  {
   "cell_type": "code",
   "id": "initial_id",
   "metadata": {
    "collapsed": true,
    "ExecuteTime": {
     "end_time": "2025-02-17T21:58:32.092734Z",
     "start_time": "2025-02-17T21:58:32.090580Z"
    }
   },
   "source": "",
   "outputs": [],
   "execution_count": 6
  },
  {
   "metadata": {
    "ExecuteTime": {
     "end_time": "2025-02-17T21:58:32.103780Z",
     "start_time": "2025-02-17T21:58:32.101880Z"
    }
   },
   "cell_type": "code",
   "source": "",
   "id": "36fc8329dc9d6870",
   "outputs": [],
   "execution_count": 7
  },
  {
   "metadata": {
    "ExecuteTime": {
     "end_time": "2025-02-17T21:58:32.124875Z",
     "start_time": "2025-02-17T21:58:32.112154Z"
    }
   },
   "cell_type": "code",
   "source": "",
   "id": "aa8e581359333e1a",
   "outputs": [
    {
     "ename": "AttributeError",
     "evalue": "'int' object has no attribute 'x'",
     "output_type": "error",
     "traceback": [
      "\u001B[0;31m---------------------------------------------------------------------------\u001B[0m",
      "\u001B[0;31mAttributeError\u001B[0m                            Traceback (most recent call last)",
      "Cell \u001B[0;32mIn[8], line 1\u001B[0m\n\u001B[0;32m----> 1\u001B[0m \u001B[43ma\u001B[49m\u001B[38;5;241;43m.\u001B[39;49m\u001B[43mmake_vector\u001B[49m\u001B[43m(\u001B[49m\u001B[38;5;241;43m4\u001B[39;49m\u001B[43m)\u001B[49m\n",
      "File \u001B[0;32m~/Developer/Statics/geom3d/points.py:78\u001B[0m, in \u001B[0;36mPoint.make_vector\u001B[0;34m(self, other)\u001B[0m\n\u001B[1;32m     62\u001B[0m \u001B[38;5;28;01mdef\u001B[39;00m \u001B[38;5;21mmake_vector\u001B[39m(\u001B[38;5;28mself\u001B[39m, other):\n\u001B[1;32m     63\u001B[0m \u001B[38;5;250m    \u001B[39m\u001B[38;5;124;03m\"\"\"\u001B[39;00m\n\u001B[1;32m     64\u001B[0m \u001B[38;5;124;03m    Computes a vector between the current instance and another point\u001B[39;00m\n\u001B[1;32m     65\u001B[0m \u001B[38;5;124;03m    in a 3-dimensional space. The resulting vector is determined by\u001B[39;00m\n\u001B[0;32m   (...)\u001B[0m\n\u001B[1;32m     75\u001B[0m \u001B[38;5;124;03m    :rtype: Vector\u001B[39;00m\n\u001B[1;32m     76\u001B[0m \u001B[38;5;124;03m    \"\"\"\u001B[39;00m\n\u001B[1;32m     77\u001B[0m     \u001B[38;5;28;01mreturn\u001B[39;00m Vector(\n\u001B[0;32m---> 78\u001B[0m         \u001B[43mother\u001B[49m\u001B[38;5;241;43m.\u001B[39;49m\u001B[43mx\u001B[49m \u001B[38;5;241m-\u001B[39m \u001B[38;5;28mself\u001B[39m\u001B[38;5;241m.\u001B[39mx,\n\u001B[1;32m     79\u001B[0m         other\u001B[38;5;241m.\u001B[39my \u001B[38;5;241m-\u001B[39m \u001B[38;5;28mself\u001B[39m\u001B[38;5;241m.\u001B[39my,\n\u001B[1;32m     80\u001B[0m         other\u001B[38;5;241m.\u001B[39mz \u001B[38;5;241m-\u001B[39m \u001B[38;5;28mself\u001B[39m\u001B[38;5;241m.\u001B[39mz\n\u001B[1;32m     81\u001B[0m     )\n",
      "\u001B[0;31mAttributeError\u001B[0m: 'int' object has no attribute 'x'"
     ]
    }
   ],
   "execution_count": 8
  },
  {
   "metadata": {
    "ExecuteTime": {
     "end_time": "2025-02-17T21:58:32.126201Z",
     "start_time": "2025-02-17T21:58:25.246152Z"
    }
   },
   "cell_type": "code",
   "source": "",
   "id": "c7d03994f8745a03",
   "outputs": [],
   "execution_count": null
  },
  {
   "metadata": {
    "ExecuteTime": {
     "end_time": "2025-02-17T21:58:32.126390Z",
     "start_time": "2025-02-17T21:58:25.258543Z"
    }
   },
   "cell_type": "code",
   "source": "",
   "id": "f6b62a289f7fad06",
   "outputs": [],
   "execution_count": 4
  },
  {
   "metadata": {
    "ExecuteTime": {
     "end_time": "2025-02-17T21:58:32.133990Z",
     "start_time": "2025-02-17T21:58:25.267005Z"
    }
   },
   "cell_type": "code",
   "source": "",
   "id": "c11cf61216755121",
   "outputs": [
    {
     "ename": "NameError",
     "evalue": "name 'ab' is not defined",
     "output_type": "error",
     "traceback": [
      "\u001B[0;31m---------------------------------------------------------------------------\u001B[0m",
      "\u001B[0;31mNameError\u001B[0m                                 Traceback (most recent call last)",
      "Cell \u001B[0;32mIn[5], line 1\u001B[0m\n\u001B[0;32m----> 1\u001B[0m T_ab \u001B[38;5;241m=\u001B[39m w\u001B[38;5;241m.\u001B[39mdot(\u001B[43mab\u001B[49m)\n",
      "\u001B[0;31mNameError\u001B[0m: name 'ab' is not defined"
     ]
    }
   ],
   "execution_count": 5
  },
  {
   "metadata": {
    "ExecuteTime": {
     "end_time": "2025-02-17T21:58:32.136653Z",
     "start_time": "2025-02-17T04:37:04.426352Z"
    }
   },
   "cell_type": "code",
   "source": "str(T_ab)",
   "id": "54e1377a3b6fb460",
   "outputs": [
    {
     "data": {
      "text/plain": [
       "'5025.064880767318'"
      ]
     },
     "execution_count": 308,
     "metadata": {},
     "output_type": "execute_result"
    }
   ],
   "execution_count": 308
  },
  {
   "metadata": {
    "ExecuteTime": {
     "end_time": "2025-02-17T21:58:32.138344Z",
     "start_time": "2025-02-17T04:37:04.432711Z"
    }
   },
   "cell_type": "code",
   "source": "14750 / 4 * 1.62",
   "id": "2b592a8a7a33a7fe",
   "outputs": [
    {
     "data": {
      "text/plain": [
       "5973.75"
      ]
     },
     "execution_count": 309,
     "metadata": {},
     "output_type": "execute_result"
    }
   ],
   "execution_count": 309
  }
 ],
 "metadata": {
  "kernelspec": {
   "display_name": "Python 3",
   "language": "python",
   "name": "python3"
  },
  "language_info": {
   "codemirror_mode": {
    "name": "ipython",
    "version": 2
   },
   "file_extension": ".py",
   "mimetype": "text/x-python",
   "name": "python",
   "nbconvert_exporter": "python",
   "pygments_lexer": "ipython2",
   "version": "2.7.6"
  }
 },
 "nbformat": 4,
 "nbformat_minor": 5
}
