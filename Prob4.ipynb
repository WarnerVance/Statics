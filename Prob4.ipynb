{
 "cells": [
  {
   "cell_type": "code",
   "id": "initial_id",
   "metadata": {
    "collapsed": true,
    "ExecuteTime": {
     "end_time": "2025-02-11T19:47:09.685808Z",
     "start_time": "2025-02-11T19:47:09.679517Z"
    }
   },
   "source": "from geom3d.vector import Vector",
   "outputs": [],
   "execution_count": 12
  },
  {
   "metadata": {
    "ExecuteTime": {
     "end_time": "2025-02-11T19:47:09.719841Z",
     "start_time": "2025-02-11T19:47:09.714805Z"
    }
   },
   "cell_type": "code",
   "source": [
    "a = Vector(1,2,3)\n",
    "b = Vector(4,5,6)"
   ],
   "id": "36fc8329dc9d6870",
   "outputs": [],
   "execution_count": 13
  },
  {
   "metadata": {
    "ExecuteTime": {
     "end_time": "2025-02-11T19:47:09.737Z",
     "start_time": "2025-02-11T19:47:09.731069Z"
    }
   },
   "cell_type": "code",
   "source": "a.comp(b)",
   "id": "aa8e581359333e1a",
   "outputs": [
    {
     "data": {
      "text/plain": [
       "8.55235974119758"
      ]
     },
     "execution_count": 14,
     "metadata": {},
     "output_type": "execute_result"
    }
   ],
   "execution_count": 14
  },
  {
   "metadata": {
    "ExecuteTime": {
     "end_time": "2025-02-11T19:47:09.794061Z",
     "start_time": "2025-02-11T19:47:09.784649Z"
    }
   },
   "cell_type": "code",
   "source": [
    "a.proj(b)\n",
    "str(a.proj(b))"
   ],
   "id": "849c96c8de2aeb2a",
   "outputs": [
    {
     "data": {
      "text/plain": [
       "'(2.285714285714286, 4.571428571428572, 6.857142857142858) with norm 8.552359741197582'"
      ]
     },
     "execution_count": 15,
     "metadata": {},
     "output_type": "execute_result"
    }
   ],
   "execution_count": 15
  }
 ],
 "metadata": {
  "kernelspec": {
   "display_name": "Python 3",
   "language": "python",
   "name": "python3"
  },
  "language_info": {
   "codemirror_mode": {
    "name": "ipython",
    "version": 2
   },
   "file_extension": ".py",
   "mimetype": "text/x-python",
   "name": "python",
   "nbconvert_exporter": "python",
   "pygments_lexer": "ipython2",
   "version": "2.7.6"
  }
 },
 "nbformat": 4,
 "nbformat_minor": 5
}
